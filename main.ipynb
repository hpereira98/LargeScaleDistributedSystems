{
 "cells": [
  {
   "cell_type": "code",
   "execution_count": 1,
   "metadata": {},
   "outputs": [
    {
     "ename": "AttributeError",
     "evalue": "'list' object has no attribute 'keys'",
     "output_type": "error",
     "traceback": [
      "\u001B[0;31m---------------------------------------------------------------------------\u001B[0m",
      "\u001B[0;31mAttributeError\u001B[0m                            Traceback (most recent call last)",
      "\u001B[0;32m<ipython-input-1-3136aad54df1>\u001B[0m in \u001B[0;36m<module>\u001B[0;34m\u001B[0m\n\u001B[1;32m      1\u001B[0m \u001B[0;32mfrom\u001B[0m \u001B[0mnodes\u001B[0m\u001B[0;34m.\u001B[0m\u001B[0mhybrid\u001B[0m \u001B[0;32mimport\u001B[0m \u001B[0mHybridNode\u001B[0m\u001B[0;34m,\u001B[0m \u001B[0mHybridRole\u001B[0m\u001B[0;34m,\u001B[0m \u001B[0mMessageType\u001B[0m\u001B[0;34m\u001B[0m\u001B[0;34m\u001B[0m\u001B[0m\n\u001B[1;32m      2\u001B[0m \u001B[0;34m\u001B[0m\u001B[0m\n\u001B[0;32m----> 3\u001B[0;31m \u001B[0mnode\u001B[0m \u001B[0;34m=\u001B[0m \u001B[0mHybridNode\u001B[0m \u001B[0;34m(\u001B[0m\u001B[0;36m0\u001B[0m\u001B[0;34m,\u001B[0m \u001B[0mHybridRole\u001B[0m\u001B[0;34m.\u001B[0m\u001B[0mPRIMARY\u001B[0m\u001B[0;34m,\u001B[0m \u001B[0;34m[\u001B[0m\u001B[0;34m]\u001B[0m\u001B[0;34m,\u001B[0m \u001B[0;36m2\u001B[0m\u001B[0;34m,\u001B[0m \u001B[0;36m10\u001B[0m\u001B[0;34m)\u001B[0m\u001B[0;34m\u001B[0m\u001B[0;34m\u001B[0m\u001B[0m\n\u001B[0m\u001B[1;32m      4\u001B[0m \u001B[0;34m\u001B[0m\u001B[0m\n\u001B[1;32m      5\u001B[0m \u001B[0mmsg\u001B[0m \u001B[0;34m=\u001B[0m \u001B[0;34m(\u001B[0m\u001B[0mMessageType\u001B[0m\u001B[0;34m.\u001B[0m\u001B[0mGOSSIP\u001B[0m\u001B[0;34m,\u001B[0m \u001B[0;36m0\u001B[0m\u001B[0;34m,\u001B[0m \u001B[0;34m(\u001B[0m\u001B[0;36m0\u001B[0m\u001B[0;34m,\u001B[0m\u001B[0;36m0\u001B[0m\u001B[0;34m)\u001B[0m\u001B[0;34m)\u001B[0m\u001B[0;34m\u001B[0m\u001B[0;34m\u001B[0m\u001B[0m\n",
      "\u001B[0;32m~/Desktop/Desktop_iCloud/Universidade/4ºano/2ºSemestre/SDLE/TP/LargeScaleDistributedSystems/nodes/hybrid.py\u001B[0m in \u001B[0;36m__init__\u001B[0;34m(self, id, role, distances, fanout, initial_value)\u001B[0m\n\u001B[1;32m     20\u001B[0m         \u001B[0;31m# setting neighbors\u001B[0m\u001B[0;34m\u001B[0m\u001B[0;34m\u001B[0m\u001B[0;34m\u001B[0m\u001B[0m\n\u001B[1;32m     21\u001B[0m         \u001B[0mself\u001B[0m\u001B[0;34m.\u001B[0m\u001B[0mneighbors\u001B[0m \u001B[0;34m=\u001B[0m \u001B[0;34m[\u001B[0m\u001B[0;34m]\u001B[0m\u001B[0;34m\u001B[0m\u001B[0;34m\u001B[0m\u001B[0m\n\u001B[0;32m---> 22\u001B[0;31m         \u001B[0;32mfor\u001B[0m \u001B[0;34m(\u001B[0m\u001B[0msrc\u001B[0m\u001B[0;34m,\u001B[0m \u001B[0mdst\u001B[0m\u001B[0;34m)\u001B[0m \u001B[0;32min\u001B[0m \u001B[0mdistances\u001B[0m\u001B[0;34m.\u001B[0m\u001B[0mkeys\u001B[0m\u001B[0;34m(\u001B[0m\u001B[0;34m)\u001B[0m\u001B[0;34m:\u001B[0m\u001B[0;34m\u001B[0m\u001B[0;34m\u001B[0m\u001B[0m\n\u001B[0m\u001B[1;32m     23\u001B[0m             \u001B[0;32mif\u001B[0m \u001B[0msrc\u001B[0m \u001B[0;34m==\u001B[0m \u001B[0mself\u001B[0m\u001B[0;34m.\u001B[0m\u001B[0mid\u001B[0m\u001B[0;34m:\u001B[0m\u001B[0;34m\u001B[0m\u001B[0;34m\u001B[0m\u001B[0m\n\u001B[1;32m     24\u001B[0m                 \u001B[0mself\u001B[0m\u001B[0;34m.\u001B[0m\u001B[0mneighbors\u001B[0m\u001B[0;34m.\u001B[0m\u001B[0mappend\u001B[0m\u001B[0;34m(\u001B[0m\u001B[0mdst\u001B[0m\u001B[0;34m)\u001B[0m\u001B[0;34m\u001B[0m\u001B[0;34m\u001B[0m\u001B[0m\n",
      "\u001B[0;31mAttributeError\u001B[0m: 'list' object has no attribute 'keys'"
     ]
    }
   ],
   "source": [
    "from nodes.hybrid import HybridNode, HybridRole, MessageType, GossipType\n",
    "\n",
    "node = HybridNode (0, HybridRole.PRIMARY, [], 2, 10)\n",
    "\n",
    "msg = (MessageType.GOSSIP, 0, (0,0))\n",
    "\n",
    "node.handle(1, msg)\n"
   ]
  },
  {
   "cell_type": "code",
   "execution_count": 4,
   "metadata": {
    "pycharm": {
     "name": "#%%\n"
    }
   },
   "outputs": [
    {
     "name": "stdout",
     "output_type": "stream",
     "text": [
      "0: \tsum: 1.8488 \tweight: 0.00185 \taggregate: 1000.0\n",
      "1: \tsum: 3.11891 \tweight: 0.00312 \taggregate: 1000.0\n",
      "2: \tsum: 3.33151 \tweight: 0.00333 \taggregate: 1000.0\n",
      "3: \tsum: 3.45594 \tweight: 0.00346 \taggregate: 1000.0\n",
      "4: \tsum: 2.34694 \tweight: 0.00235 \taggregate: 1000.0\n",
      "5: \tsum: 2.46526 \tweight: 0.00247 \taggregate: 1000.0\n",
      "6: \tsum: 1.92244 \tweight: 0.00192 \taggregate: 1000.0\n",
      "7: \tsum: 2.02469 \tweight: 0.00202 \taggregate: 1000.0\n",
      "8: \tsum: 2.48072 \tweight: 0.00248 \taggregate: 1000.0\n",
      "9: \tsum: 2.22466 \tweight: 0.00222 \taggregate: 1000.0\n",
      "10: \tsum: 3.39044 \tweight: 0.00339 \taggregate: 1000.0\n",
      "11: \tsum: 2.74132 \tweight: 0.00274 \taggregate: 1000.0\n",
      "12: \tsum: 2.73599 \tweight: 0.00274 \taggregate: 1000.0\n",
      "13: \tsum: 3.25141 \tweight: 0.00325 \taggregate: 1000.0\n",
      "14: \tsum: 3.16709 \tweight: 0.00317 \taggregate: 1000.0\n",
      "15: \tsum: 3.24723 \tweight: 0.00325 \taggregate: 1000.0\n",
      "16: \tsum: 3.50035 \tweight: 0.0035 \taggregate: 1000.0\n",
      "17: \tsum: 1.21998 \tweight: 0.00122 \taggregate: 1000.0\n",
      "18: \tsum: 2.99205 \tweight: 0.00299 \taggregate: 1000.0\n",
      "19: \tsum: 2.99521 \tweight: 0.003 \taggregate: 1000.0\n",
      "20: \tsum: 3.32483 \tweight: 0.00332 \taggregate: 1000.0\n",
      "21: \tsum: 3.44676 \tweight: 0.00345 \taggregate: 1000.0\n",
      "22: \tsum: 2.50518 \tweight: 0.00251 \taggregate: 1000.0\n",
      "23: \tsum: 2.59585 \tweight: 0.0026 \taggregate: 1000.0\n",
      "24: \tsum: 2.87284 \tweight: 0.00287 \taggregate: 1000.0\n",
      "25: \tsum: 1.69918 \tweight: 0.0017 \taggregate: 1000.0\n",
      "26: \tsum: 3.26454 \tweight: 0.00326 \taggregate: 1000.0\n",
      "27: \tsum: 2.38368 \tweight: 0.00238 \taggregate: 1000.0\n",
      "28: \tsum: 3.32691 \tweight: 0.00333 \taggregate: 1000.0\n",
      "29: \tsum: 2.47954 \tweight: 0.00248 \taggregate: 1000.0\n",
      "30: \tsum: 3.06993 \tweight: 0.00307 \taggregate: 1000.0\n",
      "31: \tsum: 1.9118 \tweight: 0.00191 \taggregate: 1000.0\n",
      "32: \tsum: 3.21836 \tweight: 0.00322 \taggregate: 1000.0\n",
      "33: \tsum: 3.45878 \tweight: 0.00346 \taggregate: 1000.0\n",
      "34: \tsum: 3.24132 \tweight: 0.00324 \taggregate: 1000.0\n",
      "35: \tsum: 2.73769 \tweight: 0.00274 \taggregate: 1000.0\n",
      "36: \tsum: 3.31764 \tweight: 0.00332 \taggregate: 1000.0\n",
      "37: \tsum: 3.42856 \tweight: 0.00343 \taggregate: 1000.0\n",
      "38: \tsum: 3.02883 \tweight: 0.00303 \taggregate: 1000.0\n",
      "39: \tsum: 2.9718 \tweight: 0.00297 \taggregate: 1000.0\n",
      "40: \tsum: 2.28381 \tweight: 0.00228 \taggregate: 1000.0\n",
      "41: \tsum: 3.12357 \tweight: 0.00312 \taggregate: 1000.0\n",
      "42: \tsum: 2.93324 \tweight: 0.00293 \taggregate: 1000.0\n",
      "43: \tsum: 1.86951 \tweight: 0.00187 \taggregate: 1000.0\n",
      "44: \tsum: 3.08142 \tweight: 0.00308 \taggregate: 1000.0\n",
      "45: \tsum: 2.47771 \tweight: 0.00248 \taggregate: 1000.0\n",
      "46: \tsum: 2.75951 \tweight: 0.00276 \taggregate: 1000.0\n",
      "47: \tsum: 2.47702 \tweight: 0.00248 \taggregate: 1000.0\n",
      "48: \tsum: 2.37937 \tweight: 0.00238 \taggregate: 1000.0\n",
      "49: \tsum: 2.7939 \tweight: 0.00279 \taggregate: 1000.0\n",
      "50: \tsum: 2.79718 \tweight: 0.0028 \taggregate: 1000.0\n",
      "51: \tsum: 2.94546 \tweight: 0.00295 \taggregate: 1000.0\n",
      "52: \tsum: 3.18937 \tweight: 0.00319 \taggregate: 1000.0\n",
      "53: \tsum: 3.05554 \tweight: 0.00306 \taggregate: 1000.0\n",
      "54: \tsum: 3.40361 \tweight: 0.0034 \taggregate: 1000.0\n",
      "55: \tsum: 2.60398 \tweight: 0.0026 \taggregate: 1000.0\n",
      "56: \tsum: 2.76459 \tweight: 0.00276 \taggregate: 1000.0\n",
      "57: \tsum: 3.39043 \tweight: 0.00339 \taggregate: 1000.0\n",
      "58: \tsum: 2.73874 \tweight: 0.00274 \taggregate: 1000.0\n",
      "59: \tsum: 3.28154 \tweight: 0.00328 \taggregate: 1000.0\n",
      "60: \tsum: 3.34468 \tweight: 0.00334 \taggregate: 1000.0\n",
      "61: \tsum: 2.87353 \tweight: 0.00287 \taggregate: 1000.0\n",
      "62: \tsum: 1.99707 \tweight: 0.002 \taggregate: 1000.0\n",
      "63: \tsum: 2.75071 \tweight: 0.00275 \taggregate: 1000.0\n",
      "64: \tsum: 3.19897 \tweight: 0.0032 \taggregate: 1000.0\n",
      "65: \tsum: 2.18203 \tweight: 0.00218 \taggregate: 1000.0\n",
      "66: \tsum: 3.26753 \tweight: 0.00327 \taggregate: 1000.0\n",
      "67: \tsum: 2.48155 \tweight: 0.00248 \taggregate: 1000.0\n",
      "68: \tsum: 3.09386 \tweight: 0.00309 \taggregate: 1000.0\n",
      "69: \tsum: 3.25325 \tweight: 0.00325 \taggregate: 1000.0\n",
      "70: \tsum: 2.45392 \tweight: 0.00245 \taggregate: 1000.0\n",
      "71: \tsum: 2.37303 \tweight: 0.00237 \taggregate: 1000.0\n",
      "72: \tsum: 2.94488 \tweight: 0.00294 \taggregate: 1000.0\n",
      "73: \tsum: 1.85759 \tweight: 0.00186 \taggregate: 1000.0\n",
      "74: \tsum: 2.67219 \tweight: 0.00267 \taggregate: 1000.0\n",
      "75: \tsum: 2.73907 \tweight: 0.00274 \taggregate: 1000.0\n",
      "76: \tsum: 2.27079 \tweight: 0.00227 \taggregate: 1000.0\n",
      "77: \tsum: 3.21288 \tweight: 0.00321 \taggregate: 1000.0\n",
      "78: \tsum: 3.16643 \tweight: 0.00317 \taggregate: 1000.0\n",
      "79: \tsum: 3.20791 \tweight: 0.00321 \taggregate: 1000.0\n",
      "80: \tsum: 3.22254 \tweight: 0.00322 \taggregate: 1000.0\n",
      "81: \tsum: 2.85193 \tweight: 0.00285 \taggregate: 1000.0\n",
      "82: \tsum: 2.76487 \tweight: 0.00276 \taggregate: 1000.0\n",
      "83: \tsum: 2.22622 \tweight: 0.00223 \taggregate: 1000.0\n",
      "84: \tsum: 2.53543 \tweight: 0.00254 \taggregate: 1000.0\n",
      "85: \tsum: 3.09888 \tweight: 0.0031 \taggregate: 1000.0\n",
      "86: \tsum: 3.2132 \tweight: 0.00321 \taggregate: 1000.0\n",
      "87: \tsum: 1.33591 \tweight: 0.00134 \taggregate: 1000.0\n",
      "88: \tsum: 1.93172 \tweight: 0.00193 \taggregate: 1000.0\n",
      "89: \tsum: 3.47459 \tweight: 0.00347 \taggregate: 1000.0\n",
      "90: \tsum: 3.13479 \tweight: 0.00313 \taggregate: 1000.0\n",
      "91: \tsum: 3.53888 \tweight: 0.00354 \taggregate: 1000.0\n",
      "92: \tsum: 2.84136 \tweight: 0.00284 \taggregate: 1000.0\n",
      "93: \tsum: 1.725 \tweight: 0.00173 \taggregate: 1000.0\n",
      "94: \tsum: 2.7529 \tweight: 0.00275 \taggregate: 1000.0\n",
      "95: \tsum: 3.06938 \tweight: 0.00307 \taggregate: 1000.0\n",
      "96: \tsum: 3.51797 \tweight: 0.00352 \taggregate: 1000.0\n",
      "97: \tsum: 2.27788 \tweight: 0.00228 \taggregate: 1000.0\n",
      "98: \tsum: 3.39329 \tweight: 0.00339 \taggregate: 1000.0\n",
      "99: \tsum: 2.97807 \tweight: 0.00298 \taggregate: 1000.0\n"
     ]
    }
   ],
   "source": [
    "from sim.faulty import FaultySimulator\n",
    "from network.graphAlgorithm import erdosRenyi\n",
    "from nodes.hybrid import HybridNode, HybridRole, MessageType, GossipType\n",
    "\n",
    "FANOUT = 10000\n",
    "\n",
    "graph = erdosRenyi(100)\n",
    "nodes = []\n",
    "distances = {}\n",
    "\n",
    "for (src, dst) in graph.edges:\n",
    "    distances[(src, dst)] = 10\n",
    "\n",
    "for i in graph.nodes:\n",
    "    nodes.append(HybridNode (i, HybridRole.PRIMARY, distances, FANOUT, 10))\n",
    "\n",
    "sim = FaultySimulator(nodes, distances, 0.1)\n",
    "simulator = sim.start((MessageType.GOSSIP, 0, (GossipType.REQUEST,0,0)), 0)\n",
    "\n",
    "for node in nodes:\n",
    "    print(str(node.id) + ': \\tsum: ' + str(round(node.sum, 5)) + ' \\tweight: ' + str(round(node.weight, 5)) + ' \\taggregate: ' + str(node.aggregate))"
   ]
  },
  {
   "cell_type": "code",
   "execution_count": null,
   "outputs": [],
   "source": [],
   "metadata": {
    "collapsed": false,
    "pycharm": {
     "name": "#%%\n"
    }
   }
  },
  {
   "cell_type": "code",
   "execution_count": null,
   "metadata": {},
   "outputs": [],
   "source": []
  }
 ],
 "metadata": {
  "kernelspec": {
   "display_name": "Python 3",
   "language": "python",
   "name": "python3"
  },
  "language_info": {
   "codemirror_mode": {
    "name": "ipython",
    "version": 3
   },
   "file_extension": ".py",
   "mimetype": "text/x-python",
   "name": "python",
   "nbconvert_exporter": "python",
   "pygments_lexer": "ipython3",
   "version": "3.7.5"
  }
 },
 "nbformat": 4,
 "nbformat_minor": 2
}
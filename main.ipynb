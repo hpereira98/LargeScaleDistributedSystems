{
 "cells": [
  {
   "cell_type": "code",
   "execution_count": 1,
   "metadata": {
    "pycharm": {
     "name": "#%%\n"
    },
    "tags": [
     "outputPrepend"
    ]
   },
   "outputs": [
    {
     "name": "stdout",
     "output_type": "stream",
     "text": [
      "Nodes: ['(0)', '(1)', '(2)', '(3)', '(4)', '(5)', '(6)', '(7)', '(8)', '(9)', '(10)', '(11)', '(12)', '(13)', '(14)', '(15)', '(16)', '(17)', '(18)', '(19)', '(20)', '(21)', '(22)', '(23)', '(24)', '(25)', '(26)', '(27)', '(28)', '(29)', '(30)', '(31)']\n",
      "Distances: {('(0)', '(11)'): 10, ('(0)', '(8)'): 10, ('(0)', '(30)'): 10, ('(0)', '(27)'): 10, ('(0)', '(5)'): 10, ('(1)', '(10)'): 10, ('(2)', '(16)'): 10, ('(2)', '(13)'): 10, ('(2)', '(17)'): 10, ('(2)', '(18)'): 10, ('(2)', '(12)'): 10, ('(2)', '(24)'): 10, ('(2)', '(15)'): 10, ('(2)', '(5)'): 10, ('(2)', '(30)'): 10, ('(3)', '(8)'): 10, ('(4)', '(13)'): 10, ('(4)', '(24)'): 10, ('(4)', '(31)'): 10, ('(5)', '(21)'): 10, ('(5)', '(13)'): 10, ('(5)', '(24)'): 10, ('(5)', '(31)'): 10, ('(5)', '(30)'): 10, ('(5)', '(9)'): 10, ('(6)', '(25)'): 10, ('(7)', '(8)'): 10, ('(7)', '(30)'): 10, ('(7)', '(17)'): 10, ('(7)', '(10)'): 10, ('(8)', '(24)'): 10, ('(8)', '(10)'): 10, ('(8)', '(14)'): 10, ('(8)', '(31)'): 10, ('(8)', '(26)'): 10, ('(8)', '(25)'): 10, ('(8)', '(22)'): 10, ('(9)', '(31)'): 10, ('(9)', '(18)'): 10, ('(9)', '(23)'): 10, ('(10)', '(23)'): 10, ('(10)', '(26)'): 10, ('(10)', '(14)'): 10, ('(10)', '(28)'): 10, ('(12)', '(13)'): 10, ('(13)', '(26)'): 10, ('(13)', '(20)'): 10, ('(13)', '(31)'): 10, ('(13)', '(24)'): 10, ('(13)', '(22)'): 10, ('(13)', '(18)'): 10, ('(13)', '(19)'): 10, ('(16)', '(24)'): 10, ('(16)', '(25)'): 10, ('(17)', '(23)'): 10, ('(17)', '(31)'): 10, ('(18)', '(29)'): 10, ('(18)', '(21)'): 10, ('(18)', '(24)'): 10, ('(18)', '(19)'): 10, ('(19)', '(21)'): 10, ('(19)', '(30)'): 10, ('(20)', '(31)'): 10, ('(21)', '(27)'): 10, ('(25)', '(31)'): 10}\n"
     ]
    }
   ],
   "source": [
    "# Grafo\n",
    "\n",
    "from network.graphAlgorithm import erdosRenyi, barabasiAlbert\n",
    "from nodes.pushsum import PushSumNode, MessageType, GossipType\n",
    "\n",
    "FANOUT = 3\n",
    "NONEWS = 10\n",
    "\n",
    "graph = barabasiAlbert(32)\n",
    "nodes = {}\n",
    "distances = {}\n",
    "\n",
    "for (src, dst) in graph.edges:\n",
    "    distances[(src, dst)] = 10\n",
    "\n",
    "for i in graph.nodes:\n",
    "    nodes[i] = (PushSumNode(i, distances, 10, FANOUT, NONEWS))\n",
    "    \n",
    "print(\"Nodes: \" + str(list(nodes.keys())))\n",
    "print(\"Distances: \" + str(distances))"
   ]
  },
  {
   "cell_type": "code",
   "execution_count": 2,
   "metadata": {},
   "outputs": [
    {
     "name": "stdout",
     "output_type": "stream",
     "text": [
      "\n",
      "Lenght of events: 28716\n",
      "\n",
      "(0): \tsum: 10.24458 \tweight: 0.03201 \taggregate: 320.00000\n",
      "(1): \tsum: 7.85436 \tweight: 0.02454 \taggregate: 320.00000\n",
      "(2): \tsum: 8.13753 \tweight: 0.02543 \taggregate: 320.00000\n",
      "(3): \tsum: 6.64086 \tweight: 0.02075 \taggregate: 320.00000\n",
      "(4): \tsum: 7.01895 \tweight: 0.02193 \taggregate: 320.00000\n",
      "(5): \tsum: 12.99436 \tweight: 0.04061 \taggregate: 320.00000\n",
      "(6): \tsum: 11.94915 \tweight: 0.03734 \taggregate: 320.00000\n",
      "(7): \tsum: 14.47080 \tweight: 0.04522 \taggregate: 320.00000\n",
      "(8): \tsum: 6.64086 \tweight: 0.02075 \taggregate: 320.00000\n",
      "(9): \tsum: 7.58846 \tweight: 0.02371 \taggregate: 320.00000\n",
      "(10): \tsum: 7.72056 \tweight: 0.02413 \taggregate: 320.00000\n",
      "(11): \tsum: 10.24458 \tweight: 0.03201 \taggregate: 320.00000\n",
      "(12): \tsum: 12.07554 \tweight: 0.03774 \taggregate: 320.00000\n",
      "(13): \tsum: 7.99755 \tweight: 0.02499 \taggregate: 320.00000\n",
      "(14): \tsum: 11.48100 \tweight: 0.03588 \taggregate: 320.00000\n",
      "(15): \tsum: 8.60521 \tweight: 0.02689 \taggregate: 320.00000\n",
      "(16): \tsum: 10.87056 \tweight: 0.03397 \taggregate: 320.00000\n",
      "(17): \tsum: 7.06393 \tweight: 0.02207 \taggregate: 320.00000\n",
      "(18): \tsum: 7.93641 \tweight: 0.02480 \taggregate: 320.00000\n",
      "(19): \tsum: 11.63807 \tweight: 0.03637 \taggregate: 320.00000\n",
      "(20): \tsum: 10.26311 \tweight: 0.03207 \taggregate: 320.00000\n",
      "(21): \tsum: 17.60778 \tweight: 0.05502 \taggregate: 320.00000\n",
      "(22): \tsum: 9.59841 \tweight: 0.03000 \taggregate: 320.00000\n",
      "(23): \tsum: 15.10628 \tweight: 0.04721 \taggregate: 320.00000\n",
      "(24): \tsum: 7.67741 \tweight: 0.02399 \taggregate: 320.00000\n",
      "(25): \tsum: 11.94915 \tweight: 0.03734 \taggregate: 320.00000\n",
      "(26): \tsum: 14.97435 \tweight: 0.04679 \taggregate: 320.00000\n",
      "(27): \tsum: 14.07181 \tweight: 0.04397 \taggregate: 320.00000\n",
      "(28): \tsum: 7.72056 \tweight: 0.02413 \taggregate: 320.00000\n",
      "(29): \tsum: 7.93641 \tweight: 0.02480 \taggregate: 320.00000\n",
      "(30): \tsum: 7.16465 \tweight: 0.02239 \taggregate: 320.00000\n",
      "(31): \tsum: 6.75676 \tweight: 0.02111 \taggregate: 320.00000\n"
     ]
    }
   ],
   "source": [
    "# Simulador\n",
    "\n",
    "from sim.faulty import FaultySimulator\n",
    "\n",
    "faulty_sim = FaultySimulator(nodes, distances, 0.1, 100000)\n",
    "events = faulty_sim.start((MessageType.GOSSIP, -1, (GossipType.REQUEST,0,0,0)), \"(0)\")\n",
    "\n",
    "print(\"\\nLenght of events: {}\".format(len(events)))\n",
    "print(\"\")\n",
    "for node in nodes.values():\n",
    "    print(str(node.id) + ': \\tsum: ' + \"{:.5f}\".format(node.sum) + ' \\tweight: ' + \"{:.5f}\".format(node.weight) + ' \\taggregate: ' + \"{:.5f}\".format(node.aggregate))"
   ]
  },
  {
   "cell_type": "code",
   "execution_count": 7,
   "metadata": {},
   "outputs": [
    {
     "name": "stdout",
     "output_type": "stream",
     "text": [
      "\n",
      "Lenght of events: 148599\n",
      "(0): \tsum: 6.82405 \tweight: 0.00682 \taggregate: 1000.00000\n",
      "(1): \tsum: 5.97559 \tweight: 0.00598 \taggregate: 1000.00000\n",
      "(2): \tsum: 11.81448 \tweight: 0.01181 \taggregate: 1000.00000\n",
      "(3): \tsum: 15.27040 \tweight: 0.01527 \taggregate: 1000.00000\n",
      "(4): \tsum: 14.25338 \tweight: 0.01425 \taggregate: 1000.00000\n",
      "(5): \tsum: 7.35573 \tweight: 0.00736 \taggregate: 1000.00000\n",
      "(6): \tsum: 6.42117 \tweight: 0.00642 \taggregate: 1000.00000\n",
      "(7): \tsum: 11.40924 \tweight: 0.01141 \taggregate: 1000.00000\n",
      "(8): \tsum: 12.98721 \tweight: 0.01299 \taggregate: 1000.00000\n",
      "(9): \tsum: 7.10199 \tweight: 0.00710 \taggregate: 1000.00000\n",
      "(10): \tsum: 9.64443 \tweight: 0.00964 \taggregate: 1000.00000\n",
      "(11): \tsum: 8.91093 \tweight: 0.00891 \taggregate: 1000.00000\n",
      "(12): \tsum: 14.24403 \tweight: 0.01424 \taggregate: 1000.00000\n",
      "(13): \tsum: 9.43551 \tweight: 0.00944 \taggregate: 1000.00000\n",
      "(14): \tsum: 16.60326 \tweight: 0.01660 \taggregate: 1000.00000\n",
      "(15): \tsum: 10.02914 \tweight: 0.01003 \taggregate: 1000.00100\n",
      "(16): \tsum: 14.48419 \tweight: 0.01448 \taggregate: 1000.00000\n",
      "(17): \tsum: 22.31292 \tweight: 0.02231 \taggregate: 1000.00000\n",
      "(18): \tsum: 15.36627 \tweight: 0.01537 \taggregate: 1000.00000\n",
      "(19): \tsum: 10.21296 \tweight: 0.01021 \taggregate: 1000.00000\n",
      "(20): \tsum: 10.08814 \tweight: 0.01009 \taggregate: 1000.00100\n",
      "(21): \tsum: 8.72309 \tweight: 0.00872 \taggregate: 1000.00000\n",
      "(22): \tsum: 9.34398 \tweight: 0.00934 \taggregate: 1000.00000\n",
      "(23): \tsum: 8.68887 \tweight: 0.00869 \taggregate: 1000.00000\n",
      "(24): \tsum: 17.08355 \tweight: 0.01708 \taggregate: 1000.00000\n",
      "(25): \tsum: 6.21104 \tweight: 0.00621 \taggregate: 1000.00000\n",
      "(26): \tsum: 7.19855 \tweight: 0.00720 \taggregate: 1000.00000\n",
      "(27): \tsum: 8.56566 \tweight: 0.00857 \taggregate: 1000.00000\n",
      "(28): \tsum: 9.22840 \tweight: 0.00923 \taggregate: 1000.00000\n",
      "(29): \tsum: 8.49451 \tweight: 0.00849 \taggregate: 1000.00100\n",
      "(30): \tsum: 7.15368 \tweight: 0.00715 \taggregate: 1000.00000\n",
      "(31): \tsum: 13.10298 \tweight: 0.01310 \taggregate: 1000.00000\n",
      "(32): \tsum: 10.12467 \tweight: 0.01012 \taggregate: 1000.00000\n",
      "(33): \tsum: 9.07096 \tweight: 0.00907 \taggregate: 1000.00000\n",
      "(34): \tsum: 12.27436 \tweight: 0.01227 \taggregate: 1000.00000\n",
      "(35): \tsum: 8.96539 \tweight: 0.00897 \taggregate: 1000.00000\n",
      "(36): \tsum: 7.87490 \tweight: 0.00787 \taggregate: 1000.00000\n",
      "(37): \tsum: 8.56672 \tweight: 0.00857 \taggregate: 1000.00000\n",
      "(38): \tsum: 8.49596 \tweight: 0.00850 \taggregate: 1000.00000\n",
      "(39): \tsum: 8.21938 \tweight: 0.00822 \taggregate: 1000.00000\n",
      "(40): \tsum: 9.19284 \tweight: 0.00919 \taggregate: 1000.00000\n",
      "(41): \tsum: 9.00979 \tweight: 0.00901 \taggregate: 1000.00000\n",
      "(42): \tsum: 8.76003 \tweight: 0.00876 \taggregate: 1000.00000\n",
      "(43): \tsum: 6.51084 \tweight: 0.00651 \taggregate: 1000.00000\n",
      "(44): \tsum: 12.95542 \tweight: 0.01296 \taggregate: 1000.00100\n",
      "(45): \tsum: 10.19336 \tweight: 0.01019 \taggregate: 1000.00000\n",
      "(46): \tsum: 13.89108 \tweight: 0.01389 \taggregate: 1000.00000\n",
      "(47): \tsum: 7.35457 \tweight: 0.00735 \taggregate: 1000.00000\n",
      "(48): \tsum: 7.55427 \tweight: 0.00755 \taggregate: 1000.00000\n",
      "(49): \tsum: 6.85396 \tweight: 0.00685 \taggregate: 1000.00000\n",
      "(50): \tsum: 6.56089 \tweight: 0.00656 \taggregate: 1000.00000\n",
      "(51): \tsum: 8.24416 \tweight: 0.00824 \taggregate: 1000.00000\n",
      "(52): \tsum: 7.29259 \tweight: 0.00729 \taggregate: 1000.00000\n",
      "(53): \tsum: 8.80193 \tweight: 0.00880 \taggregate: 1000.00000\n",
      "(54): \tsum: 9.51356 \tweight: 0.00951 \taggregate: 1000.00000\n",
      "(55): \tsum: 18.43693 \tweight: 0.01844 \taggregate: 1000.00000\n",
      "(56): \tsum: 7.42271 \tweight: 0.00742 \taggregate: 1000.00000\n",
      "(57): \tsum: 14.85888 \tweight: 0.01486 \taggregate: 1000.00000\n",
      "(58): \tsum: 6.87984 \tweight: 0.00688 \taggregate: 1000.00000\n",
      "(59): \tsum: 8.50139 \tweight: 0.00850 \taggregate: 1000.00100\n",
      "(60): \tsum: 6.45959 \tweight: 0.00646 \taggregate: 1000.00000\n",
      "(61): \tsum: 6.86694 \tweight: 0.00687 \taggregate: 1000.00000\n",
      "(62): \tsum: 9.70815 \tweight: 0.00971 \taggregate: 1000.00000\n",
      "(63): \tsum: 7.14283 \tweight: 0.00714 \taggregate: 1000.00000\n",
      "(64): \tsum: 7.28107 \tweight: 0.00728 \taggregate: 1000.00000\n",
      "(65): \tsum: 18.02802 \tweight: 0.01803 \taggregate: 1000.00000\n",
      "(66): \tsum: 10.33730 \tweight: 0.01034 \taggregate: 1000.00000\n",
      "(67): \tsum: 6.87649 \tweight: 0.00688 \taggregate: 1000.00000\n",
      "(68): \tsum: 9.03327 \tweight: 0.00903 \taggregate: 1000.00000\n",
      "(69): \tsum: 10.42551 \tweight: 0.01043 \taggregate: 1000.00000\n",
      "(70): \tsum: 6.45598 \tweight: 0.00646 \taggregate: 1000.00000\n",
      "(71): \tsum: 7.51647 \tweight: 0.00752 \taggregate: 1000.00000\n",
      "(72): \tsum: 7.60611 \tweight: 0.00761 \taggregate: 1000.00000\n",
      "(73): \tsum: 8.41195 \tweight: 0.00841 \taggregate: 1000.00000\n",
      "(74): \tsum: 25.00124 \tweight: 0.02500 \taggregate: 1000.00000\n",
      "(75): \tsum: 8.35155 \tweight: 0.00835 \taggregate: 1000.00000\n",
      "(76): \tsum: 4.25247 \tweight: 0.00425 \taggregate: 999.99900\n",
      "(77): \tsum: 6.05528 \tweight: 0.00606 \taggregate: 1000.00000\n",
      "(78): \tsum: 11.48074 \tweight: 0.01148 \taggregate: 1000.00000\n",
      "(79): \tsum: 11.30285 \tweight: 0.01130 \taggregate: 1000.00000\n",
      "(80): \tsum: 14.34547 \tweight: 0.01435 \taggregate: 1000.00000\n",
      "(81): \tsum: 7.73776 \tweight: 0.00774 \taggregate: 1000.00000\n",
      "(82): \tsum: 6.34685 \tweight: 0.00635 \taggregate: 1000.00000\n",
      "(83): \tsum: 7.81139 \tweight: 0.00781 \taggregate: 1000.00000\n",
      "(84): \tsum: 12.87539 \tweight: 0.01288 \taggregate: 1000.00000\n",
      "(85): \tsum: 7.59531 \tweight: 0.00760 \taggregate: 1000.00000\n",
      "(86): \tsum: 7.56708 \tweight: 0.00757 \taggregate: 1000.00000\n",
      "(87): \tsum: 11.47601 \tweight: 0.01148 \taggregate: 1000.00000\n",
      "(88): \tsum: 8.32293 \tweight: 0.00832 \taggregate: 1000.00000\n",
      "(89): \tsum: 8.24867 \tweight: 0.00825 \taggregate: 1000.00000\n",
      "(90): \tsum: 6.13292 \tweight: 0.00613 \taggregate: 1000.00000\n",
      "(91): \tsum: 15.45715 \tweight: 0.01546 \taggregate: 1000.00000\n",
      "(92): \tsum: 8.07421 \tweight: 0.00807 \taggregate: 1000.00000\n",
      "(93): \tsum: 15.77681 \tweight: 0.01578 \taggregate: 1000.00000\n",
      "(94): \tsum: 7.82717 \tweight: 0.00783 \taggregate: 1000.00100\n",
      "(95): \tsum: 6.01379 \tweight: 0.00601 \taggregate: 1000.00000\n",
      "(96): \tsum: 13.29529 \tweight: 0.01330 \taggregate: 1000.00000\n",
      "(97): \tsum: 10.09386 \tweight: 0.01009 \taggregate: 1000.00000\n",
      "(98): \tsum: 10.65240 \tweight: 0.01065 \taggregate: 1000.00000\n",
      "(99): \tsum: 18.83502 \tweight: 0.01884 \taggregate: 1000.00000\n"
     ]
    }
   ],
   "source": [
    "events += faulty_sim.proceed(1000)\n",
    "\n",
    "print(\"\\nLenght of events: {}\".format(len(events)))\n",
    "\n",
    "for node in nodes.values():\n",
    "    print(str(node.id) + ': \\tsum: ' + \"{:.5f}\".format(node.sum) + ' \\tweight: ' + \"{:.5f}\".format(node.weight) + ' \\taggregate: ' + \"{:.5f}\".format(node.aggregate))"
   ]
  },
  {
   "cell_type": "code",
   "execution_count": 3,
   "outputs": [
    {
     "name": "stdout",
     "output_type": "stream",
     "text": [
      "time: 3240.0 ms\n",
      "messages: 28716\n"
     ]
    }
   ],
   "source": [
    "# stats\n",
    "message_count = 0\n",
    "\n",
    "for event in events:\n",
    "    if event[1][2][0] is MessageType.GOSSIP or event[1][2][0] is MessageType.RETRANSMISSION or event[1][2][0] is MessageType.ACK:\n",
    "        message_count += 1\n",
    "\n",
    "print(\"time: \" + str(faulty_sim.current_instant) + \" ms\")\n",
    "print(\"messages: \" + str(message_count))"
   ],
   "metadata": {
    "collapsed": false,
    "pycharm": {
     "name": "#%%\n"
    }
   }
  },
  {
   "cell_type": "code",
   "execution_count": null,
   "metadata": {},
   "outputs": [],
   "source": []
  },
  {
   "cell_type": "code",
   "execution_count": null,
   "metadata": {},
   "outputs": [],
   "source": []
  }
 ],
 "metadata": {
  "kernelspec": {
   "name": "python3",
   "language": "python",
   "display_name": "Python 3"
  },
  "language_info": {
   "codemirror_mode": {
    "name": "ipython",
    "version": 3
   },
   "file_extension": ".py",
   "mimetype": "text/x-python",
   "name": "python",
   "nbconvert_exporter": "python",
   "pygments_lexer": "ipython3",
   "version": "3.7.6"
  }
 },
 "nbformat": 4,
 "nbformat_minor": 2
}
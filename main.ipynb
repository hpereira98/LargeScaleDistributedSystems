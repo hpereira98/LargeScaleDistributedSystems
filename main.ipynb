{
 "cells": [
  {
   "cell_type": "code",
   "execution_count": 11,
   "metadata": {},
   "outputs": [
    {
     "output_type": "execute_result",
     "data": {
      "text/plain": "[<HybridRole.PRIMARY: 1>, 'GOSSIP', 'Hello World!']"
     },
     "metadata": {},
     "execution_count": 11
    }
   ],
   "source": [
    "from nodes.hybrid import HybridNode, HybridRole, MessageType\n",
    "\n",
    "node = HybridNode (0, HybridRole.PRIMARY, [])\n",
    "\n",
    "msg = (MessageType.GOSSIP, 1000, \"Hello World!\")\n",
    "\n",
    "node.handle(1, msg)\n"
   ]
  },
  {
   "cell_type": "code",
   "execution_count": null,
   "metadata": {},
   "outputs": [],
   "source": [
    "from sim.faulty import FaultySimulator"
   ]
  }
 ],
 "metadata": {
  "language_info": {
   "codemirror_mode": {
    "name": "ipython",
    "version": 3
   },
   "file_extension": ".py",
   "mimetype": "text/x-python",
   "name": "python",
   "nbconvert_exporter": "python",
   "pygments_lexer": "ipython3",
   "version": "3.7.6-final"
  },
  "orig_nbformat": 2,
  "kernelspec": {
   "name": "python37664bitf145e88782004c4e8f08cdfdceda798c",
   "display_name": "Python 3.7.6 64-bit"
  }
 },
 "nbformat": 4,
 "nbformat_minor": 2
}
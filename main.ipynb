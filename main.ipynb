{
 "cells": [
  {
   "cell_type": "code",
   "execution_count": 1,
   "metadata": {},
   "outputs": [
    {
     "ename": "AttributeError",
     "evalue": "'list' object has no attribute 'keys'",
     "output_type": "error",
     "traceback": [
      "\u001B[0;31m---------------------------------------------------------------------------\u001B[0m",
      "\u001B[0;31mAttributeError\u001B[0m                            Traceback (most recent call last)",
      "\u001B[0;32m<ipython-input-1-3136aad54df1>\u001B[0m in \u001B[0;36m<module>\u001B[0;34m\u001B[0m\n\u001B[1;32m      1\u001B[0m \u001B[0;32mfrom\u001B[0m \u001B[0mnodes\u001B[0m\u001B[0;34m.\u001B[0m\u001B[0mhybrid\u001B[0m \u001B[0;32mimport\u001B[0m \u001B[0mHybridNode\u001B[0m\u001B[0;34m,\u001B[0m \u001B[0mHybridRole\u001B[0m\u001B[0;34m,\u001B[0m \u001B[0mMessageType\u001B[0m\u001B[0;34m\u001B[0m\u001B[0;34m\u001B[0m\u001B[0m\n\u001B[1;32m      2\u001B[0m \u001B[0;34m\u001B[0m\u001B[0m\n\u001B[0;32m----> 3\u001B[0;31m \u001B[0mnode\u001B[0m \u001B[0;34m=\u001B[0m \u001B[0mHybridNode\u001B[0m \u001B[0;34m(\u001B[0m\u001B[0;36m0\u001B[0m\u001B[0;34m,\u001B[0m \u001B[0mHybridRole\u001B[0m\u001B[0;34m.\u001B[0m\u001B[0mPRIMARY\u001B[0m\u001B[0;34m,\u001B[0m \u001B[0;34m[\u001B[0m\u001B[0;34m]\u001B[0m\u001B[0;34m,\u001B[0m \u001B[0;36m2\u001B[0m\u001B[0;34m,\u001B[0m \u001B[0;36m10\u001B[0m\u001B[0;34m)\u001B[0m\u001B[0;34m\u001B[0m\u001B[0;34m\u001B[0m\u001B[0m\n\u001B[0m\u001B[1;32m      4\u001B[0m \u001B[0;34m\u001B[0m\u001B[0m\n\u001B[1;32m      5\u001B[0m \u001B[0mmsg\u001B[0m \u001B[0;34m=\u001B[0m \u001B[0;34m(\u001B[0m\u001B[0mMessageType\u001B[0m\u001B[0;34m.\u001B[0m\u001B[0mGOSSIP\u001B[0m\u001B[0;34m,\u001B[0m \u001B[0;36m0\u001B[0m\u001B[0;34m,\u001B[0m \u001B[0;34m(\u001B[0m\u001B[0;36m0\u001B[0m\u001B[0;34m,\u001B[0m\u001B[0;36m0\u001B[0m\u001B[0;34m)\u001B[0m\u001B[0;34m)\u001B[0m\u001B[0;34m\u001B[0m\u001B[0;34m\u001B[0m\u001B[0m\n",
      "\u001B[0;32m~/Desktop/Desktop_iCloud/Universidade/4ºano/2ºSemestre/SDLE/TP/LargeScaleDistributedSystems/nodes/hybrid.py\u001B[0m in \u001B[0;36m__init__\u001B[0;34m(self, id, role, distances, fanout, initial_value)\u001B[0m\n\u001B[1;32m     20\u001B[0m         \u001B[0;31m# setting neighbors\u001B[0m\u001B[0;34m\u001B[0m\u001B[0;34m\u001B[0m\u001B[0;34m\u001B[0m\u001B[0m\n\u001B[1;32m     21\u001B[0m         \u001B[0mself\u001B[0m\u001B[0;34m.\u001B[0m\u001B[0mneighbors\u001B[0m \u001B[0;34m=\u001B[0m \u001B[0;34m[\u001B[0m\u001B[0;34m]\u001B[0m\u001B[0;34m\u001B[0m\u001B[0;34m\u001B[0m\u001B[0m\n\u001B[0;32m---> 22\u001B[0;31m         \u001B[0;32mfor\u001B[0m \u001B[0;34m(\u001B[0m\u001B[0msrc\u001B[0m\u001B[0;34m,\u001B[0m \u001B[0mdst\u001B[0m\u001B[0;34m)\u001B[0m \u001B[0;32min\u001B[0m \u001B[0mdistances\u001B[0m\u001B[0;34m.\u001B[0m\u001B[0mkeys\u001B[0m\u001B[0;34m(\u001B[0m\u001B[0;34m)\u001B[0m\u001B[0;34m:\u001B[0m\u001B[0;34m\u001B[0m\u001B[0;34m\u001B[0m\u001B[0m\n\u001B[0m\u001B[1;32m     23\u001B[0m             \u001B[0;32mif\u001B[0m \u001B[0msrc\u001B[0m \u001B[0;34m==\u001B[0m \u001B[0mself\u001B[0m\u001B[0;34m.\u001B[0m\u001B[0mid\u001B[0m\u001B[0;34m:\u001B[0m\u001B[0;34m\u001B[0m\u001B[0;34m\u001B[0m\u001B[0m\n\u001B[1;32m     24\u001B[0m                 \u001B[0mself\u001B[0m\u001B[0;34m.\u001B[0m\u001B[0mneighbors\u001B[0m\u001B[0;34m.\u001B[0m\u001B[0mappend\u001B[0m\u001B[0;34m(\u001B[0m\u001B[0mdst\u001B[0m\u001B[0;34m)\u001B[0m\u001B[0;34m\u001B[0m\u001B[0;34m\u001B[0m\u001B[0m\n",
      "\u001B[0;31mAttributeError\u001B[0m: 'list' object has no attribute 'keys'"
     ]
    }
   ],
   "source": [
    "from nodes.hybrid import HybridNode, HybridRole, MessageType, GossipType\n",
    "\n",
    "node = HybridNode (0, HybridRole.PRIMARY, [], 2, 10)\n",
    "\n",
    "msg = (MessageType.GOSSIP, 0, (0,0))\n",
    "\n",
    "node.handle(1, msg)\n"
   ]
  },
  {
   "cell_type": "code",
   "execution_count": 1,
   "metadata": {
    "pycharm": {
     "name": "#%%\n"
    }
   },
   "outputs": [
    {
     "name": "stdout",
     "output_type": "stream",
     "text": [
      "0: \tsum: 9.92743 \tweight: 0.00993 \taggregate: 1000.0\n",
      "1: \tsum: 5.09239 \tweight: 0.00509 \taggregate: 1000.0\n",
      "2: \tsum: 5.73735 \tweight: 0.00574 \taggregate: 1000.0\n",
      "3: \tsum: 8.76594 \tweight: 0.00877 \taggregate: 1000.0\n",
      "4: \tsum: 8.2557 \tweight: 0.00826 \taggregate: 1000.0\n",
      "5: \tsum: 3.96345 \tweight: 0.00396 \taggregate: 1000.0\n",
      "6: \tsum: 5.50928 \tweight: 0.00551 \taggregate: 1000.0\n",
      "7: \tsum: 10.58233 \tweight: 0.01058 \taggregate: 1000.0\n",
      "8: \tsum: 5.52588 \tweight: 0.00553 \taggregate: 1000.0\n",
      "9: \tsum: 5.83044 \tweight: 0.00583 \taggregate: 1000.0\n",
      "10: \tsum: 5.75423 \tweight: 0.00575 \taggregate: 1000.0\n",
      "11: \tsum: 9.90208 \tweight: 0.0099 \taggregate: 1000.0\n",
      "12: \tsum: 6.70794 \tweight: 0.00671 \taggregate: 1000.0\n",
      "13: \tsum: 9.12438 \tweight: 0.00912 \taggregate: 1000.0\n",
      "14: \tsum: 6.37687 \tweight: 0.00638 \taggregate: 1000.0\n",
      "15: \tsum: 6.10777 \tweight: 0.00611 \taggregate: 1000.0\n",
      "16: \tsum: 7.4298 \tweight: 0.00743 \taggregate: 1000.0\n",
      "17: \tsum: 12.75373 \tweight: 0.01275 \taggregate: 1000.0\n",
      "18: \tsum: 3.76347 \tweight: 0.00376 \taggregate: 1000.0\n",
      "19: \tsum: 11.44786 \tweight: 0.01145 \taggregate: 1000.0\n",
      "20: \tsum: 3.08577 \tweight: 0.00309 \taggregate: 1000.0\n",
      "21: \tsum: 6.22661 \tweight: 0.00623 \taggregate: 1000.0\n",
      "22: \tsum: 11.38501 \tweight: 0.01139 \taggregate: 1000.0\n",
      "23: \tsum: 8.99171 \tweight: 0.00899 \taggregate: 1000.0\n",
      "24: \tsum: 11.18 \tweight: 0.01118 \taggregate: 1000.0\n",
      "25: \tsum: 11.23093 \tweight: 0.01123 \taggregate: 1000.0\n",
      "26: \tsum: 8.27662 \tweight: 0.00828 \taggregate: 1000.0\n",
      "27: \tsum: 7.80876 \tweight: 0.00781 \taggregate: 1000.0\n",
      "28: \tsum: 7.01265 \tweight: 0.00701 \taggregate: 1000.0\n",
      "29: \tsum: 9.50547 \tweight: 0.00951 \taggregate: 1000.0\n",
      "30: \tsum: 5.27336 \tweight: 0.00527 \taggregate: 1000.0\n",
      "31: \tsum: 10.29409 \tweight: 0.01029 \taggregate: 1000.0\n",
      "32: \tsum: 4.30565 \tweight: 0.00431 \taggregate: 1000.0\n",
      "33: \tsum: 9.91779 \tweight: 0.00992 \taggregate: 1000.0\n",
      "34: \tsum: 4.65094 \tweight: 0.00465 \taggregate: 1000.0\n",
      "35: \tsum: 12.70854 \tweight: 0.01271 \taggregate: 1000.0\n",
      "36: \tsum: 13.03771 \tweight: 0.01304 \taggregate: 1000.0\n",
      "37: \tsum: 5.55223 \tweight: 0.00555 \taggregate: 1000.0\n",
      "38: \tsum: 4.88117 \tweight: 0.00488 \taggregate: 1000.0\n",
      "39: \tsum: 9.66014 \tweight: 0.00966 \taggregate: 1000.0\n",
      "40: \tsum: 10.58233 \tweight: 0.01058 \taggregate: 1000.0\n",
      "41: \tsum: 13.32291 \tweight: 0.01332 \taggregate: 1000.0\n",
      "42: \tsum: 4.17815 \tweight: 0.00418 \taggregate: 1000.0\n",
      "43: \tsum: 12.0766 \tweight: 0.01208 \taggregate: 1000.0\n",
      "44: \tsum: 5.6925 \tweight: 0.00569 \taggregate: 1000.0\n",
      "45: \tsum: 5.50928 \tweight: 0.00551 \taggregate: 1000.0\n",
      "46: \tsum: 12.87675 \tweight: 0.01288 \taggregate: 1000.0\n",
      "47: \tsum: 9.85259 \tweight: 0.00985 \taggregate: 1000.0\n",
      "48: \tsum: 8.84759 \tweight: 0.00885 \taggregate: 1000.0\n",
      "49: \tsum: 6.72135 \tweight: 0.00672 \taggregate: 1000.0\n",
      "50: \tsum: 5.5833 \tweight: 0.00558 \taggregate: 1000.0\n",
      "51: \tsum: 7.00846 \tweight: 0.00701 \taggregate: 1000.0\n",
      "52: \tsum: 10.8328 \tweight: 0.01083 \taggregate: 1000.0\n",
      "53: \tsum: 7.81954 \tweight: 0.00782 \taggregate: 1000.0\n",
      "54: \tsum: 4.89503 \tweight: 0.0049 \taggregate: 1000.0\n",
      "55: \tsum: 5.47057 \tweight: 0.00547 \taggregate: 1000.0\n",
      "56: \tsum: 5.75423 \tweight: 0.00575 \taggregate: 1000.0\n",
      "57: \tsum: 11.7685 \tweight: 0.01177 \taggregate: 1000.0\n",
      "58: \tsum: 5.93777 \tweight: 0.00594 \taggregate: 1000.0\n",
      "59: \tsum: 9.44074 \tweight: 0.00944 \taggregate: 1000.0\n",
      "60: \tsum: 8.76496 \tweight: 0.00876 \taggregate: 1000.0\n",
      "61: \tsum: 10.13696 \tweight: 0.01014 \taggregate: 1000.0\n",
      "62: \tsum: 4.87357 \tweight: 0.00487 \taggregate: 1000.0\n",
      "63: \tsum: 6.1852 \tweight: 0.00619 \taggregate: 1000.0\n",
      "64: \tsum: 4.30974 \tweight: 0.00431 \taggregate: 1000.0\n",
      "65: \tsum: 9.76235 \tweight: 0.00976 \taggregate: 1000.0\n",
      "66: \tsum: 10.72564 \tweight: 0.01073 \taggregate: 1000.0\n",
      "67: \tsum: 4.14036 \tweight: 0.00414 \taggregate: 1000.0\n",
      "68: \tsum: 4.87972 \tweight: 0.00488 \taggregate: 1000.0\n",
      "69: \tsum: 4.83898 \tweight: 0.00484 \taggregate: 1000.0\n",
      "70: \tsum: 3.52775 \tweight: 0.00353 \taggregate: 1000.0\n",
      "71: \tsum: 7.63025 \tweight: 0.00763 \taggregate: 1000.0\n",
      "72: \tsum: 8.53765 \tweight: 0.00854 \taggregate: 1000.0\n",
      "73: \tsum: 8.0509 \tweight: 0.00805 \taggregate: 1000.0\n",
      "74: \tsum: 9.74713 \tweight: 0.00975 \taggregate: 1000.0\n",
      "75: \tsum: 11.99116 \tweight: 0.01199 \taggregate: 1000.0\n",
      "76: \tsum: 4.46312 \tweight: 0.00446 \taggregate: 1000.0\n",
      "77: \tsum: 5.46428 \tweight: 0.00546 \taggregate: 1000.0\n",
      "78: \tsum: 4.98607 \tweight: 0.00499 \taggregate: 1000.0\n",
      "79: \tsum: 5.65991 \tweight: 0.00566 \taggregate: 1000.0\n",
      "80: \tsum: 9.94817 \tweight: 0.00995 \taggregate: 1000.0\n",
      "81: \tsum: 9.94817 \tweight: 0.00995 \taggregate: 1000.0\n",
      "82: \tsum: 11.73 \tweight: 0.01173 \taggregate: 1000.0\n",
      "83: \tsum: 8.61949 \tweight: 0.00862 \taggregate: 1000.0\n",
      "84: \tsum: 7.92727 \tweight: 0.00793 \taggregate: 1000.0\n",
      "85: \tsum: 8.12078 \tweight: 0.00812 \taggregate: 1000.0\n",
      "86: \tsum: 5.18023 \tweight: 0.00518 \taggregate: 1000.0\n",
      "87: \tsum: 8.68795 \tweight: 0.00869 \taggregate: 1000.0\n",
      "88: \tsum: 4.42204 \tweight: 0.00442 \taggregate: 1000.0\n",
      "89: \tsum: 12.8882 \tweight: 0.01289 \taggregate: 1000.0\n",
      "90: \tsum: 8.75537 \tweight: 0.00876 \taggregate: 1000.0\n",
      "91: \tsum: 3.92136 \tweight: 0.00392 \taggregate: 1000.0\n",
      "92: \tsum: 5.11449 \tweight: 0.00511 \taggregate: 1000.0\n",
      "93: \tsum: 15.67272 \tweight: 0.01567 \taggregate: 1000.0\n",
      "94: \tsum: 5.14705 \tweight: 0.00515 \taggregate: 1000.0\n",
      "95: \tsum: 5.46441 \tweight: 0.00546 \taggregate: 1000.0\n",
      "96: \tsum: 4.42204 \tweight: 0.00442 \taggregate: 1000.0\n",
      "97: \tsum: 8.19338 \tweight: 0.00819 \taggregate: 1000.0\n",
      "98: \tsum: 5.79579 \tweight: 0.0058 \taggregate: 1000.0\n",
      "99: \tsum: 7.06457 \tweight: 0.00706 \taggregate: 1000.0\n"
     ]
    }
   ],
   "source": [
    "from sim.faulty import FaultySimulator\n",
    "from network.graphAlgorithm import erdosRenyi\n",
    "from nodes.hybrid import HybridNode, HybridRole, MessageType, GossipType\n",
    "\n",
    "FANOUT = 1\n",
    "TIMEOUT = 100\n",
    "\n",
    "graph = erdosRenyi(100)\n",
    "nodes = []\n",
    "distances = {}\n",
    "\n",
    "for (src, dst) in graph.edges:\n",
    "    distances[(src, dst)] = 10\n",
    "\n",
    "for i in graph.nodes:\n",
    "    nodes.append(HybridNode(i, HybridRole.PRIMARY, distances, 10, FANOUT, TIMEOUT))\n",
    "\n",
    "sim = FaultySimulator(nodes, distances, 0.1)\n",
    "simulator = sim.start((MessageType.GOSSIP, 0, (GossipType.REQUEST,0,0)), 0)\n",
    "\n",
    "for node in nodes:\n",
    "    print(str(node.id) + ': \\tsum: ' + str(round(node.sum, 5)) + ' \\tweight: ' + str(round(node.weight, 5)) + ' \\taggregate: ' + str(node.aggregate))"
   ]
  },
  {
   "cell_type": "code",
   "execution_count": null,
   "outputs": [],
   "source": [],
   "metadata": {
    "collapsed": false,
    "pycharm": {
     "name": "#%%\n"
    }
   }
  },
  {
   "cell_type": "code",
   "execution_count": null,
   "metadata": {},
   "outputs": [],
   "source": []
  }
 ],
 "metadata": {
  "kernelspec": {
   "display_name": "Python 3",
   "language": "python",
   "name": "python3"
  },
  "language_info": {
   "codemirror_mode": {
    "name": "ipython",
    "version": 3
   },
   "file_extension": ".py",
   "mimetype": "text/x-python",
   "name": "python",
   "nbconvert_exporter": "python",
   "pygments_lexer": "ipython3",
   "version": "3.7.5"
  }
 },
 "nbformat": 4,
 "nbformat_minor": 2
}
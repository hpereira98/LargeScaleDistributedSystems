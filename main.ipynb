{
 "cells": [
  {
   "cell_type": "code",
   "execution_count": 1,
   "metadata": {},
   "outputs": [
    {
     "ename": "AttributeError",
     "evalue": "'list' object has no attribute 'keys'",
     "output_type": "error",
     "traceback": [
      "\u001B[0;31m---------------------------------------------------------------------------\u001B[0m",
      "\u001B[0;31mAttributeError\u001B[0m                            Traceback (most recent call last)",
      "\u001B[0;32m<ipython-input-1-3136aad54df1>\u001B[0m in \u001B[0;36m<module>\u001B[0;34m\u001B[0m\n\u001B[1;32m      1\u001B[0m \u001B[0;32mfrom\u001B[0m \u001B[0mnodes\u001B[0m\u001B[0;34m.\u001B[0m\u001B[0mhybrid\u001B[0m \u001B[0;32mimport\u001B[0m \u001B[0mHybridNode\u001B[0m\u001B[0;34m,\u001B[0m \u001B[0mHybridRole\u001B[0m\u001B[0;34m,\u001B[0m \u001B[0mMessageType\u001B[0m\u001B[0;34m\u001B[0m\u001B[0;34m\u001B[0m\u001B[0m\n\u001B[1;32m      2\u001B[0m \u001B[0;34m\u001B[0m\u001B[0m\n\u001B[0;32m----> 3\u001B[0;31m \u001B[0mnode\u001B[0m \u001B[0;34m=\u001B[0m \u001B[0mHybridNode\u001B[0m \u001B[0;34m(\u001B[0m\u001B[0;36m0\u001B[0m\u001B[0;34m,\u001B[0m \u001B[0mHybridRole\u001B[0m\u001B[0;34m.\u001B[0m\u001B[0mPRIMARY\u001B[0m\u001B[0;34m,\u001B[0m \u001B[0;34m[\u001B[0m\u001B[0;34m]\u001B[0m\u001B[0;34m,\u001B[0m \u001B[0;36m2\u001B[0m\u001B[0;34m,\u001B[0m \u001B[0;36m10\u001B[0m\u001B[0;34m)\u001B[0m\u001B[0;34m\u001B[0m\u001B[0;34m\u001B[0m\u001B[0m\n\u001B[0m\u001B[1;32m      4\u001B[0m \u001B[0;34m\u001B[0m\u001B[0m\n\u001B[1;32m      5\u001B[0m \u001B[0mmsg\u001B[0m \u001B[0;34m=\u001B[0m \u001B[0;34m(\u001B[0m\u001B[0mMessageType\u001B[0m\u001B[0;34m.\u001B[0m\u001B[0mGOSSIP\u001B[0m\u001B[0;34m,\u001B[0m \u001B[0;36m0\u001B[0m\u001B[0;34m,\u001B[0m \u001B[0;34m(\u001B[0m\u001B[0;36m0\u001B[0m\u001B[0;34m,\u001B[0m\u001B[0;36m0\u001B[0m\u001B[0;34m)\u001B[0m\u001B[0;34m)\u001B[0m\u001B[0;34m\u001B[0m\u001B[0;34m\u001B[0m\u001B[0m\n",
      "\u001B[0;32m~/Desktop/Desktop_iCloud/Universidade/4ºano/2ºSemestre/SDLE/TP/LargeScaleDistributedSystems/nodes/hybrid.py\u001B[0m in \u001B[0;36m__init__\u001B[0;34m(self, id, role, distances, fanout, initial_value)\u001B[0m\n\u001B[1;32m     20\u001B[0m         \u001B[0;31m# setting neighbors\u001B[0m\u001B[0;34m\u001B[0m\u001B[0;34m\u001B[0m\u001B[0;34m\u001B[0m\u001B[0m\n\u001B[1;32m     21\u001B[0m         \u001B[0mself\u001B[0m\u001B[0;34m.\u001B[0m\u001B[0mneighbors\u001B[0m \u001B[0;34m=\u001B[0m \u001B[0;34m[\u001B[0m\u001B[0;34m]\u001B[0m\u001B[0;34m\u001B[0m\u001B[0;34m\u001B[0m\u001B[0m\n\u001B[0;32m---> 22\u001B[0;31m         \u001B[0;32mfor\u001B[0m \u001B[0;34m(\u001B[0m\u001B[0msrc\u001B[0m\u001B[0;34m,\u001B[0m \u001B[0mdst\u001B[0m\u001B[0;34m)\u001B[0m \u001B[0;32min\u001B[0m \u001B[0mdistances\u001B[0m\u001B[0;34m.\u001B[0m\u001B[0mkeys\u001B[0m\u001B[0;34m(\u001B[0m\u001B[0;34m)\u001B[0m\u001B[0;34m:\u001B[0m\u001B[0;34m\u001B[0m\u001B[0;34m\u001B[0m\u001B[0m\n\u001B[0m\u001B[1;32m     23\u001B[0m             \u001B[0;32mif\u001B[0m \u001B[0msrc\u001B[0m \u001B[0;34m==\u001B[0m \u001B[0mself\u001B[0m\u001B[0;34m.\u001B[0m\u001B[0mid\u001B[0m\u001B[0;34m:\u001B[0m\u001B[0;34m\u001B[0m\u001B[0;34m\u001B[0m\u001B[0m\n\u001B[1;32m     24\u001B[0m                 \u001B[0mself\u001B[0m\u001B[0;34m.\u001B[0m\u001B[0mneighbors\u001B[0m\u001B[0;34m.\u001B[0m\u001B[0mappend\u001B[0m\u001B[0;34m(\u001B[0m\u001B[0mdst\u001B[0m\u001B[0;34m)\u001B[0m\u001B[0;34m\u001B[0m\u001B[0;34m\u001B[0m\u001B[0m\n",
      "\u001B[0;31mAttributeError\u001B[0m: 'list' object has no attribute 'keys'"
     ]
    }
   ],
   "source": [
    "from nodes.hybrid import HybridNode, HybridRole, MessageType, GossipType\n",
    "\n",
    "node = HybridNode (0, HybridRole.PRIMARY, [], 2, 10)\n",
    "\n",
    "msg = (MessageType.GOSSIP, 0, (0,0))\n",
    "\n",
    "node.handle(1, msg)\n"
   ]
  },
  {
   "cell_type": "code",
   "execution_count": 3,
   "metadata": {
    "pycharm": {
     "name": "#%%\n"
    }
   },
   "outputs": [
    {
     "name": "stdout",
     "output_type": "stream",
     "text": [
      "0: \tsum: 2.49023 \tweight: 0.00249 \taggregate: 1000.0\n",
      "1: \tsum: 2.25195 \tweight: 0.00225 \taggregate: 1000.0\n",
      "2: \tsum: 4.28901 \tweight: 0.00429 \taggregate: 1000.0\n",
      "3: \tsum: 2.82071 \tweight: 0.00282 \taggregate: 1000.0\n",
      "4: \tsum: 4.38695 \tweight: 0.00439 \taggregate: 1000.0\n",
      "5: \tsum: 3.74656 \tweight: 0.00375 \taggregate: 999.998\n",
      "6: \tsum: 3.82523 \tweight: 0.00383 \taggregate: 1000.004\n",
      "7: \tsum: 3.71648 \tweight: 0.00372 \taggregate: 1000.003\n",
      "8: \tsum: 2.64734 \tweight: 0.00265 \taggregate: 999.999\n",
      "9: \tsum: 3.80424 \tweight: 0.0038 \taggregate: 999.998\n",
      "10: \tsum: 3.71229 \tweight: 0.00371 \taggregate: 999.999\n",
      "11: \tsum: 4.30176 \tweight: 0.0043 \taggregate: 999.999\n",
      "12: \tsum: 4.15941 \tweight: 0.00416 \taggregate: 1000.0\n",
      "13: \tsum: 4.11643 \tweight: 0.00412 \taggregate: 999.999\n",
      "14: \tsum: 2.79357 \tweight: 0.00279 \taggregate: 999.999\n",
      "15: \tsum: 4.33978 \tweight: 0.00434 \taggregate: 1000.0\n",
      "16: \tsum: 3.48309 \tweight: 0.00348 \taggregate: 999.999\n",
      "17: \tsum: 3.88551 \tweight: 0.00389 \taggregate: 1000.0\n",
      "18: \tsum: 3.26998 \tweight: 0.00327 \taggregate: 999.999\n",
      "19: \tsum: 4.30028 \tweight: 0.0043 \taggregate: 1000.0\n",
      "20: \tsum: 2.69861 \tweight: 0.0027 \taggregate: 999.999\n",
      "21: \tsum: 3.8075 \tweight: 0.00381 \taggregate: 1000.002\n",
      "22: \tsum: 2.76989 \tweight: 0.00277 \taggregate: 999.999\n",
      "23: \tsum: 3.97936 \tweight: 0.00398 \taggregate: 1000.001\n",
      "24: \tsum: 4.79665 \tweight: 0.0048 \taggregate: 1000.006\n",
      "25: \tsum: 2.82298 \tweight: 0.00282 \taggregate: 1000.0\n",
      "26: \tsum: 3.62848 \tweight: 0.00363 \taggregate: 999.999\n",
      "27: \tsum: 4.10956 \tweight: 0.00411 \taggregate: 1000.0\n",
      "28: \tsum: 3.39047 \tweight: 0.00339 \taggregate: 1000.001\n",
      "29: \tsum: 2.6149 \tweight: 0.00261 \taggregate: 999.999\n",
      "30: \tsum: 3.87033 \tweight: 0.00387 \taggregate: 1000.0\n",
      "31: \tsum: 2.82806 \tweight: 0.00283 \taggregate: 999.999\n",
      "32: \tsum: 2.99505 \tweight: 0.003 \taggregate: 1000.0\n",
      "33: \tsum: 3.95326 \tweight: 0.00395 \taggregate: 999.999\n",
      "34: \tsum: 3.57463 \tweight: 0.00357 \taggregate: 999.999\n",
      "35: \tsum: 2.60012 \tweight: 0.0026 \taggregate: 1000.001\n",
      "36: \tsum: 3.97804 \tweight: 0.00398 \taggregate: 1000.002\n",
      "37: \tsum: 3.79262 \tweight: 0.00379 \taggregate: 1000.005\n",
      "38: \tsum: 2.8069 \tweight: 0.00281 \taggregate: 999.999\n",
      "39: \tsum: 2.78852 \tweight: 0.00279 \taggregate: 1000.0\n",
      "40: \tsum: 2.31757 \tweight: 0.00232 \taggregate: 999.999\n",
      "41: \tsum: 3.76898 \tweight: 0.00377 \taggregate: 1000.005\n",
      "42: \tsum: 2.35572 \tweight: 0.00236 \taggregate: 999.999\n",
      "43: \tsum: 3.06009 \tweight: 0.00306 \taggregate: 999.999\n",
      "44: \tsum: 2.81455 \tweight: 0.00281 \taggregate: 1000.003\n",
      "45: \tsum: 2.79944 \tweight: 0.0028 \taggregate: 999.998\n",
      "46: \tsum: 3.01616 \tweight: 0.00302 \taggregate: 1000.001\n",
      "47: \tsum: 4.02379 \tweight: 0.00402 \taggregate: 1000.001\n",
      "48: \tsum: 3.73123 \tweight: 0.00373 \taggregate: 999.998\n",
      "49: \tsum: 2.70725 \tweight: 0.00271 \taggregate: 999.999\n",
      "50: \tsum: 2.34501 \tweight: 0.00235 \taggregate: 999.999\n",
      "51: \tsum: 3.44636 \tweight: 0.00345 \taggregate: 999.999\n",
      "52: \tsum: 5.71798 \tweight: 0.00572 \taggregate: 1000.0\n",
      "53: \tsum: 2.91027 \tweight: 0.00291 \taggregate: 1000.0\n",
      "54: \tsum: 3.13359 \tweight: 0.00313 \taggregate: 1000.0\n",
      "55: \tsum: 3.87179 \tweight: 0.00387 \taggregate: 1000.001\n",
      "56: \tsum: 4.57703 \tweight: 0.00458 \taggregate: 999.996\n",
      "57: \tsum: 2.86941 \tweight: 0.00287 \taggregate: 999.999\n",
      "58: \tsum: 4.83366 \tweight: 0.00483 \taggregate: 1000.001\n",
      "59: \tsum: 3.7807 \tweight: 0.00378 \taggregate: 1000.0\n",
      "60: \tsum: 2.30301 \tweight: 0.0023 \taggregate: 999.999\n",
      "61: \tsum: 3.04818 \tweight: 0.00305 \taggregate: 999.999\n",
      "62: \tsum: 3.53271 \tweight: 0.00353 \taggregate: 999.998\n",
      "63: \tsum: 3.8204 \tweight: 0.00382 \taggregate: 1000.0\n",
      "64: \tsum: 4.30835 \tweight: 0.00431 \taggregate: 1000.0\n",
      "65: \tsum: 2.77701 \tweight: 0.00278 \taggregate: 999.999\n",
      "66: \tsum: 4.2074 \tweight: 0.00421 \taggregate: 999.999\n",
      "67: \tsum: 3.63128 \tweight: 0.00363 \taggregate: 999.999\n",
      "68: \tsum: 2.02711 \tweight: 0.00203 \taggregate: 1000.003\n",
      "69: \tsum: 3.29094 \tweight: 0.00329 \taggregate: 1000.0\n",
      "70: \tsum: 3.16568 \tweight: 0.00317 \taggregate: 999.999\n",
      "71: \tsum: 3.71104 \tweight: 0.00371 \taggregate: 999.999\n",
      "72: \tsum: 4.40968 \tweight: 0.00441 \taggregate: 1000.002\n",
      "73: \tsum: 3.97585 \tweight: 0.00398 \taggregate: 999.999\n",
      "74: \tsum: 3.68029 \tweight: 0.00368 \taggregate: 1000.0\n",
      "75: \tsum: 2.82226 \tweight: 0.00282 \taggregate: 999.999\n",
      "76: \tsum: 1.68281 \tweight: 0.00168 \taggregate: 1000.0\n",
      "77: \tsum: 3.93756 \tweight: 0.00394 \taggregate: 1000.003\n",
      "78: \tsum: 4.03483 \tweight: 0.00403 \taggregate: 1000.001\n",
      "79: \tsum: 3.40363 \tweight: 0.0034 \taggregate: 1000.001\n",
      "80: \tsum: 4.36977 \tweight: 0.00437 \taggregate: 999.999\n",
      "81: \tsum: 3.59293 \tweight: 0.00359 \taggregate: 999.998\n",
      "82: \tsum: 1.9631 \tweight: 0.00196 \taggregate: 999.999\n",
      "83: \tsum: 4.60939 \tweight: 0.00461 \taggregate: 1000.0\n",
      "84: \tsum: 3.45203 \tweight: 0.00345 \taggregate: 999.999\n",
      "85: \tsum: 3.12247 \tweight: 0.00312 \taggregate: 999.999\n",
      "86: \tsum: 2.68831 \tweight: 0.00269 \taggregate: 1000.0\n",
      "87: \tsum: 3.67843 \tweight: 0.00368 \taggregate: 999.999\n",
      "88: \tsum: 3.98991 \tweight: 0.00399 \taggregate: 1000.0\n",
      "89: \tsum: 3.89375 \tweight: 0.00389 \taggregate: 1000.0\n",
      "90: \tsum: 3.22544 \tweight: 0.00323 \taggregate: 1000.004\n",
      "91: \tsum: 3.5861 \tweight: 0.00359 \taggregate: 999.997\n",
      "92: \tsum: 2.33934 \tweight: 0.00234 \taggregate: 1000.004\n",
      "93: \tsum: 3.96007 \tweight: 0.00396 \taggregate: 1000.0\n",
      "94: \tsum: 3.80147 \tweight: 0.0038 \taggregate: 999.999\n",
      "95: \tsum: 1.80153 \tweight: 0.0018 \taggregate: 999.999\n",
      "96: \tsum: 4.34338 \tweight: 0.00434 \taggregate: 1000.0\n",
      "97: \tsum: 2.05575 \tweight: 0.00206 \taggregate: 999.998\n",
      "98: \tsum: 1.74604 \tweight: 0.00175 \taggregate: 1000.0\n",
      "99: \tsum: 2.98765 \tweight: 0.00299 \taggregate: 1000.001\n"
     ]
    }
   ],
   "source": [
    "from sim.faulty import FaultySimulator\n",
    "from network.graphAlgorithm import erdosRenyi\n",
    "from nodes.hybrid import HybridNode, HybridRole, MessageType, GossipType\n",
    "\n",
    "FANOUT = 10000\n",
    "\n",
    "graph = erdosRenyi(100)\n",
    "nodes = []\n",
    "distances = {}\n",
    "\n",
    "for (src, dst) in graph.edges:\n",
    "    distances[(src, dst)] = 10\n",
    "\n",
    "for i in graph.nodes:\n",
    "    nodes.append(HybridNode (i, HybridRole.PRIMARY, distances, FANOUT, 10))\n",
    "\n",
    "sim = FaultySimulator(nodes, distances, 0.1)\n",
    "simulator = sim.start((MessageType.GOSSIP, 0, (GossipType.REQUEST,0,0)), 0)\n",
    "\n",
    "for node in nodes:\n",
    "    print(str(node.id) + ': \\tsum: ' + str(round(node.sum, 5)) + ' \\tweight: ' + str(round(node.weight, 5)) + ' \\taggregate: ' + str(node.aggregate))"
   ]
  },
  {
   "cell_type": "code",
   "execution_count": null,
   "outputs": [],
   "source": [],
   "metadata": {
    "collapsed": false,
    "pycharm": {
     "name": "#%%\n"
    }
   }
  },
  {
   "cell_type": "code",
   "execution_count": null,
   "metadata": {},
   "outputs": [],
   "source": []
  }
 ],
 "metadata": {
  "kernelspec": {
   "display_name": "Python 3",
   "language": "python",
   "name": "python3"
  },
  "language_info": {
   "codemirror_mode": {
    "name": "ipython",
    "version": 3
   },
   "file_extension": ".py",
   "mimetype": "text/x-python",
   "name": "python",
   "nbconvert_exporter": "python",
   "pygments_lexer": "ipython3",
   "version": "3.7.5"
  }
 },
 "nbformat": 4,
 "nbformat_minor": 2
}